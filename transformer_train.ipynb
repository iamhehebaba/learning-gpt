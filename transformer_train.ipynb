{
 "cells": [
  {
   "cell_type": "code",
   "execution_count": 1,
   "id": "2d07a362",
   "metadata": {},
   "outputs": [],
   "source": [
    "import torch\n",
    "import torch.nn as nn"
   ]
  },
  {
   "cell_type": "code",
   "execution_count": 2,
   "id": "2b4c2dde",
   "metadata": {},
   "outputs": [
    {
     "data": {
      "text/plain": [
       "'2.3.0.dev20231222'"
      ]
     },
     "execution_count": 2,
     "metadata": {},
     "output_type": "execute_result"
    }
   ],
   "source": [
    "torch.__version__"
   ]
  },
  {
   "cell_type": "code",
   "execution_count": 3,
   "id": "c20529fa",
   "metadata": {},
   "outputs": [],
   "source": [
    "transformer_model = nn.Transformer(nhead=16, num_encoder_layers=12,batch_first=True)\n",
    "src = torch.rand((32,10, 512))\n",
    "tgt = torch.rand((32, 20, 512))\n",
    "out = transformer_model(src, tgt)"
   ]
  },
  {
   "cell_type": "code",
   "execution_count": 6,
   "id": "fe84987c",
   "metadata": {},
   "outputs": [
    {
     "data": {
      "text/plain": [
       "Transformer(\n",
       "  (encoder): TransformerEncoder(\n",
       "    (layers): ModuleList(\n",
       "      (0-11): 12 x TransformerEncoderLayer(\n",
       "        (self_attn): MultiheadAttention(\n",
       "          (out_proj): NonDynamicallyQuantizableLinear(in_features=512, out_features=512, bias=True)\n",
       "        )\n",
       "        (linear1): Linear(in_features=512, out_features=2048, bias=True)\n",
       "        (dropout): Dropout(p=0.1, inplace=False)\n",
       "        (linear2): Linear(in_features=2048, out_features=512, bias=True)\n",
       "        (norm1): LayerNorm((512,), eps=1e-05, elementwise_affine=True)\n",
       "        (norm2): LayerNorm((512,), eps=1e-05, elementwise_affine=True)\n",
       "        (dropout1): Dropout(p=0.1, inplace=False)\n",
       "        (dropout2): Dropout(p=0.1, inplace=False)\n",
       "      )\n",
       "    )\n",
       "    (norm): LayerNorm((512,), eps=1e-05, elementwise_affine=True)\n",
       "  )\n",
       "  (decoder): TransformerDecoder(\n",
       "    (layers): ModuleList(\n",
       "      (0-5): 6 x TransformerDecoderLayer(\n",
       "        (self_attn): MultiheadAttention(\n",
       "          (out_proj): NonDynamicallyQuantizableLinear(in_features=512, out_features=512, bias=True)\n",
       "        )\n",
       "        (multihead_attn): MultiheadAttention(\n",
       "          (out_proj): NonDynamicallyQuantizableLinear(in_features=512, out_features=512, bias=True)\n",
       "        )\n",
       "        (linear1): Linear(in_features=512, out_features=2048, bias=True)\n",
       "        (dropout): Dropout(p=0.1, inplace=False)\n",
       "        (linear2): Linear(in_features=2048, out_features=512, bias=True)\n",
       "        (norm1): LayerNorm((512,), eps=1e-05, elementwise_affine=True)\n",
       "        (norm2): LayerNorm((512,), eps=1e-05, elementwise_affine=True)\n",
       "        (norm3): LayerNorm((512,), eps=1e-05, elementwise_affine=True)\n",
       "        (dropout1): Dropout(p=0.1, inplace=False)\n",
       "        (dropout2): Dropout(p=0.1, inplace=False)\n",
       "        (dropout3): Dropout(p=0.1, inplace=False)\n",
       "      )\n",
       "    )\n",
       "    (norm): LayerNorm((512,), eps=1e-05, elementwise_affine=True)\n",
       "  )\n",
       ")"
      ]
     },
     "execution_count": 6,
     "metadata": {},
     "output_type": "execute_result"
    }
   ],
   "source": [
    "transformer_model"
   ]
  },
  {
   "cell_type": "code",
   "execution_count": 7,
   "id": "ee413594",
   "metadata": {},
   "outputs": [
    {
     "data": {
      "text/plain": [
       "torch.Size([32, 20, 512])"
      ]
     },
     "execution_count": 7,
     "metadata": {},
     "output_type": "execute_result"
    }
   ],
   "source": [
    "out.shape"
   ]
  },
  {
   "cell_type": "markdown",
   "id": "023fe3db",
   "metadata": {},
   "source": [
    "##  transformerEncoder"
   ]
  },
  {
   "cell_type": "code",
   "execution_count": 8,
   "id": "a6f9a54c",
   "metadata": {},
   "outputs": [
    {
     "name": "stdout",
     "output_type": "stream",
     "text": [
      "torch.Size([10, 32, 512])\n"
     ]
    },
    {
     "name": "stderr",
     "output_type": "stream",
     "text": [
      "/Users/wangaijun/miniforge3/envs/torch2/lib/python3.9/site-packages/torch/nn/modules/transformer.py:290: UserWarning: enable_nested_tensor is True, but self.use_nested_tensor is False because encoder_layer.self_attn.batch_first was not True(use batch_first for better inference performance)\n",
      "  warnings.warn(f\"enable_nested_tensor is True, but self.use_nested_tensor is False because {why_not_sparsity_fast_path}\")\n"
     ]
    },
    {
     "data": {
      "text/plain": [
       "TransformerEncoderLayer(\n",
       "  (self_attn): MultiheadAttention(\n",
       "    (out_proj): NonDynamicallyQuantizableLinear(in_features=512, out_features=512, bias=True)\n",
       "  )\n",
       "  (linear1): Linear(in_features=512, out_features=2048, bias=True)\n",
       "  (dropout): Dropout(p=0.1, inplace=False)\n",
       "  (linear2): Linear(in_features=2048, out_features=512, bias=True)\n",
       "  (norm1): LayerNorm((512,), eps=1e-05, elementwise_affine=True)\n",
       "  (norm2): LayerNorm((512,), eps=1e-05, elementwise_affine=True)\n",
       "  (dropout1): Dropout(p=0.1, inplace=False)\n",
       "  (dropout2): Dropout(p=0.1, inplace=False)\n",
       ")"
      ]
     },
     "execution_count": 8,
     "metadata": {},
     "output_type": "execute_result"
    }
   ],
   "source": [
    "encoder_layer = nn.TransformerEncoderLayer(d_model=512, nhead=8)\n",
    "\n",
    "transformer_encoder = nn.TransformerEncoder(encoder_layer, num_layers=6)\n",
    "src = torch.rand(10, 32, 512)\n",
    "out = transformer_encoder(src)\n",
    "print(out.shape)\n",
    "encoder_layer"
   ]
  },
  {
   "cell_type": "markdown",
   "id": "a1d74490",
   "metadata": {},
   "source": [
    "## TransformerDecoder "
   ]
  },
  {
   "cell_type": "code",
   "execution_count": 9,
   "id": "77c6ff32",
   "metadata": {},
   "outputs": [
    {
     "name": "stdout",
     "output_type": "stream",
     "text": [
      "torch.Size([20, 32, 512])\n"
     ]
    },
    {
     "data": {
      "text/plain": [
       "TransformerDecoder(\n",
       "  (layers): ModuleList(\n",
       "    (0-5): 6 x TransformerDecoderLayer(\n",
       "      (self_attn): MultiheadAttention(\n",
       "        (out_proj): NonDynamicallyQuantizableLinear(in_features=512, out_features=512, bias=True)\n",
       "      )\n",
       "      (multihead_attn): MultiheadAttention(\n",
       "        (out_proj): NonDynamicallyQuantizableLinear(in_features=512, out_features=512, bias=True)\n",
       "      )\n",
       "      (linear1): Linear(in_features=512, out_features=2048, bias=True)\n",
       "      (dropout): Dropout(p=0.1, inplace=False)\n",
       "      (linear2): Linear(in_features=2048, out_features=512, bias=True)\n",
       "      (norm1): LayerNorm((512,), eps=1e-05, elementwise_affine=True)\n",
       "      (norm2): LayerNorm((512,), eps=1e-05, elementwise_affine=True)\n",
       "      (norm3): LayerNorm((512,), eps=1e-05, elementwise_affine=True)\n",
       "      (dropout1): Dropout(p=0.1, inplace=False)\n",
       "      (dropout2): Dropout(p=0.1, inplace=False)\n",
       "      (dropout3): Dropout(p=0.1, inplace=False)\n",
       "    )\n",
       "  )\n",
       ")"
      ]
     },
     "execution_count": 9,
     "metadata": {},
     "output_type": "execute_result"
    }
   ],
   "source": [
    "decoder_layer = nn.TransformerDecoderLayer(d_model=512, nhead=8)\n",
    "transformer_decoder = nn.TransformerDecoder(decoder_layer, num_layers=6)\n",
    "memory = torch.rand(15, 32, 512)\n",
    "tgt = torch.rand(20, 32, 512)\n",
    "out = transformer_decoder(tgt, memory)\n",
    "print(out.shape)\n",
    "transformer_decoder"
   ]
  },
  {
   "cell_type": "markdown",
   "id": "a2c9f580",
   "metadata": {},
   "source": [
    "## TransformerEncoderLayer"
   ]
  },
  {
   "cell_type": "code",
   "execution_count": 10,
   "id": "1cf7dd14",
   "metadata": {},
   "outputs": [
    {
     "name": "stdout",
     "output_type": "stream",
     "text": [
      "torch.Size([10, 32, 512])\n"
     ]
    },
    {
     "data": {
      "text/plain": [
       "TransformerEncoderLayer(\n",
       "  (self_attn): MultiheadAttention(\n",
       "    (out_proj): NonDynamicallyQuantizableLinear(in_features=512, out_features=512, bias=True)\n",
       "  )\n",
       "  (linear1): Linear(in_features=512, out_features=2048, bias=True)\n",
       "  (dropout): Dropout(p=0.1, inplace=False)\n",
       "  (linear2): Linear(in_features=2048, out_features=512, bias=True)\n",
       "  (norm1): LayerNorm((512,), eps=1e-05, elementwise_affine=True)\n",
       "  (norm2): LayerNorm((512,), eps=1e-05, elementwise_affine=True)\n",
       "  (dropout1): Dropout(p=0.1, inplace=False)\n",
       "  (dropout2): Dropout(p=0.1, inplace=False)\n",
       ")"
      ]
     },
     "execution_count": 10,
     "metadata": {},
     "output_type": "execute_result"
    }
   ],
   "source": [
    "encoder_layer = nn.TransformerEncoderLayer(d_model=512, nhead=8)\n",
    "src = torch.rand(10, 32, 512)\n",
    "out = encoder_layer(src)\n",
    "print(out.shape)\n",
    "encoder_layer"
   ]
  },
  {
   "cell_type": "markdown",
   "id": "461fe24c",
   "metadata": {},
   "source": [
    "## TransformerDecoderLayer"
   ]
  },
  {
   "cell_type": "code",
   "execution_count": 11,
   "id": "81f7109f",
   "metadata": {},
   "outputs": [
    {
     "name": "stdout",
     "output_type": "stream",
     "text": [
      "torch.Size([20, 32, 512])\n"
     ]
    },
    {
     "data": {
      "text/plain": [
       "TransformerDecoderLayer(\n",
       "  (self_attn): MultiheadAttention(\n",
       "    (out_proj): NonDynamicallyQuantizableLinear(in_features=512, out_features=512, bias=True)\n",
       "  )\n",
       "  (multihead_attn): MultiheadAttention(\n",
       "    (out_proj): NonDynamicallyQuantizableLinear(in_features=512, out_features=512, bias=True)\n",
       "  )\n",
       "  (linear1): Linear(in_features=512, out_features=2048, bias=True)\n",
       "  (dropout): Dropout(p=0.1, inplace=False)\n",
       "  (linear2): Linear(in_features=2048, out_features=512, bias=True)\n",
       "  (norm1): LayerNorm((512,), eps=1e-05, elementwise_affine=True)\n",
       "  (norm2): LayerNorm((512,), eps=1e-05, elementwise_affine=True)\n",
       "  (norm3): LayerNorm((512,), eps=1e-05, elementwise_affine=True)\n",
       "  (dropout1): Dropout(p=0.1, inplace=False)\n",
       "  (dropout2): Dropout(p=0.1, inplace=False)\n",
       "  (dropout3): Dropout(p=0.1, inplace=False)\n",
       ")"
      ]
     },
     "execution_count": 11,
     "metadata": {},
     "output_type": "execute_result"
    }
   ],
   "source": [
    "decoder_layer = nn.TransformerDecoderLayer(d_model=512, nhead=8)\n",
    "memory = torch.rand(10, 32, 512)\n",
    "tgt = torch.rand(20, 32, 512)\n",
    "out = decoder_layer(tgt, memory)\n",
    "print(out.shape)\n",
    "decoder_layer"
   ]
  },
  {
   "cell_type": "markdown",
   "id": "b894b95a",
   "metadata": {},
   "source": [
    "## multi attention"
   ]
  },
  {
   "cell_type": "code",
   "execution_count": 12,
   "id": "5abe557b",
   "metadata": {},
   "outputs": [],
   "source": [
    "from torch.nn import MultiheadAttention"
   ]
  },
  {
   "cell_type": "code",
   "execution_count": 13,
   "id": "62b79b70",
   "metadata": {},
   "outputs": [
    {
     "name": "stdout",
     "output_type": "stream",
     "text": [
      "torch.Size([32, 10, 12])    torch.Size([32, 10, 10])\n"
     ]
    }
   ],
   "source": [
    "num_heads=3\n",
    "embed_dim=num_heads*4\n",
    "multihead_attn = nn.MultiheadAttention(embed_dim, num_heads,batch_first=True)\n",
    "query=key=value=tgt = torch.rand(32, 10, embed_dim)\n",
    "attn_output, attn_output_weights = multihead_attn(query, key, value)\n",
    "print(attn_output.shape,\"  \",attn_output_weights.shape)"
   ]
  },
  {
   "cell_type": "code",
   "execution_count": 14,
   "id": "6cd47b56",
   "metadata": {},
   "outputs": [
    {
     "name": "stdout",
     "output_type": "stream",
     "text": [
      "torch.Size([32, 10, 12])    torch.Size([32, 10, 20])\n"
     ]
    }
   ],
   "source": [
    "query=torch.rand(32, 10, embed_dim)\n",
    "key=value = torch.rand(32, 20, embed_dim)\n",
    "attn_output, attn_output_weights = multihead_attn(query, key, value)\n",
    "print(attn_output.shape,\"  \",attn_output_weights.shape)"
   ]
  },
  {
   "cell_type": "code",
   "execution_count": 15,
   "id": "755885fe",
   "metadata": {},
   "outputs": [
    {
     "name": "stdout",
     "output_type": "stream",
     "text": [
      "torch.Size([32, 20, 12])\n"
     ]
    }
   ],
   "source": [
    "print(key.shape)"
   ]
  },
  {
   "cell_type": "code",
   "execution_count": 16,
   "id": "2c6c04e8",
   "metadata": {},
   "outputs": [
    {
     "name": "stdout",
     "output_type": "stream",
     "text": [
      "torch.Size([1, 9, 9])\n",
      "torch.Size([1, 9, 12])\n"
     ]
    }
   ],
   "source": [
    "import torch.nn.functional as F\n",
    "import torch\n",
    "# 给定的张量\n",
    "sentence=\"cat dog and pig all of this is animals\".split(\" \")\n",
    "query = torch.rand(1, len(sentence), embed_dim)\n",
    "key = value = torch.rand(1, len(sentence), embed_dim)\n",
    "\n",
    "# 计算注意力分数\n",
    "attention_scores = torch.matmul(query, key.transpose(-2, -1)) / torch.sqrt(torch.tensor(embed_dim).float())\n",
    "attention_weights = F.softmax(attention_scores, dim=-1)\n",
    "print(attention_weights.shape)\n",
    "# 计算注意力输出\n",
    "attention_output = torch.matmul(attention_weights, value)\n",
    "\n",
    "print(attention_output.shape)"
   ]
  },
  {
   "cell_type": "code",
   "execution_count": 17,
   "id": "c40e6b72",
   "metadata": {},
   "outputs": [
    {
     "data": {
      "text/plain": [
       "torch.Size([1, 1, 9, 9])"
      ]
     },
     "execution_count": 17,
     "metadata": {},
     "output_type": "execute_result"
    }
   ],
   "source": [
    "\n",
    "attention=attention_scores.unsqueeze(0)\n",
    "attention.shape"
   ]
  },
  {
   "cell_type": "code",
   "execution_count": 18,
   "id": "fa1cdc25",
   "metadata": {},
   "outputs": [
    {
     "ename": "ModuleNotFoundError",
     "evalue": "No module named 'bertviz'",
     "output_type": "error",
     "traceback": [
      "\u001b[0;31m---------------------------------------------------------------------------\u001b[0m",
      "\u001b[0;31mModuleNotFoundError\u001b[0m                       Traceback (most recent call last)",
      "Cell \u001b[0;32mIn[18], line 1\u001b[0m\n\u001b[0;32m----> 1\u001b[0m \u001b[38;5;28;01mfrom\u001b[39;00m \u001b[38;5;21;01mbertviz\u001b[39;00m \u001b[38;5;28;01mimport\u001b[39;00m head_view, model_view\n",
      "\u001b[0;31mModuleNotFoundError\u001b[0m: No module named 'bertviz'"
     ]
    }
   ],
   "source": [
    "from bertviz import head_view, model_view"
   ]
  },
  {
   "cell_type": "code",
   "execution_count": 19,
   "id": "b1a2218d",
   "metadata": {},
   "outputs": [
    {
     "ename": "NameError",
     "evalue": "name 'head_view' is not defined",
     "output_type": "error",
     "traceback": [
      "\u001b[0;31m---------------------------------------------------------------------------\u001b[0m",
      "\u001b[0;31mNameError\u001b[0m                                 Traceback (most recent call last)",
      "Cell \u001b[0;32mIn[19], line 2\u001b[0m\n\u001b[1;32m      1\u001b[0m \u001b[38;5;66;03m# # 进行可视化\u001b[39;00m\n\u001b[0;32m----> 2\u001b[0m \u001b[43mhead_view\u001b[49m((attention,attention), sentence)\n\u001b[1;32m      3\u001b[0m \u001b[38;5;66;03m# model_view(attention, tokens, sentence_b_start)\u001b[39;00m\n",
      "\u001b[0;31mNameError\u001b[0m: name 'head_view' is not defined"
     ]
    }
   ],
   "source": [
    "# # 进行可视化\n",
    "head_view((attention,attention), sentence)\n",
    "# model_view(attention, tokens, sentence_b_start)"
   ]
  },
  {
   "cell_type": "code",
   "execution_count": null,
   "id": "062d0ab0",
   "metadata": {},
   "outputs": [],
   "source": []
  },
  {
   "cell_type": "markdown",
   "id": "a502e916",
   "metadata": {},
   "source": [
    "# 大模型评估指标"
   ]
  },
  {
   "cell_type": "code",
   "execution_count": 1,
   "id": "4532a3c0",
   "metadata": {},
   "outputs": [
    {
     "name": "stdout",
     "output_type": "stream",
     "text": [
      "BLEU score: 0.0\n"
     ]
    }
   ],
   "source": [
    "from sacrebleu.metrics import BLEU\n",
    "\n",
    "# 初始化BLEU评估器\n",
    "bleu = BLEU()\n",
    "\n",
    "# 生成文本\n",
    "generated_text = \"This is a generated sentence that we want to evaluate.\"\n",
    "# 参考文本\n",
    "reference_text = \"This is the sentence that we are comparing against.\"\n",
    "\n",
    "# 计算BLEU分数\n",
    "bleu_score = bleu.corpus_score(generated_text, [reference_text,generated_text])\n",
    "print(f\"BLEU score: {bleu_score.score}\")\n"
   ]
  },
  {
   "cell_type": "code",
   "execution_count": 2,
   "id": "ce23c4b8",
   "metadata": {},
   "outputs": [
    {
     "name": "stdout",
     "output_type": "stream",
     "text": [
      "[{'rouge-1': {'r': 0.5, 'p': 0.5, 'f': 0.4999999950000001}, 'rouge-2': {'r': 0.3333333333333333, 'p': 0.3333333333333333, 'f': 0.3333333283333334}, 'rouge-l': {'r': 0.5, 'p': 0.5, 'f': 0.4999999950000001}}]\n"
     ]
    }
   ],
   "source": [
    "from rouge import Rouge\n",
    "\n",
    "# 初始化ROUGE评估器\n",
    "rouge = Rouge()\n",
    "\n",
    "# 生成文本\n",
    "generated_text = \"This is a generated sentence that we want to evaluate.\"\n",
    "# 参考文本\n",
    "reference_text = \"This is the reference sentence that we are comparing against.\"\n",
    "\n",
    "# 计算ROUGE分数\n",
    "rouge_scores = rouge.get_scores(generated_text, reference_text)\n",
    "print(rouge_scores)\n"
   ]
  },
  {
   "cell_type": "code",
   "execution_count": null,
   "id": "bce4d46a",
   "metadata": {},
   "outputs": [],
   "source": []
  },
  {
   "cell_type": "markdown",
   "id": "1093895a",
   "metadata": {},
   "source": [
    "## mask"
   ]
  },
  {
   "cell_type": "code",
   "execution_count": 9,
   "id": "20ace7fa",
   "metadata": {},
   "outputs": [
    {
     "name": "stdout",
     "output_type": "stream",
     "text": [
      "tensor([[[ 1.6765,  2.1930,  0.0749,  0.4814, -0.4894],\n",
      "         [-0.0350,  0.3943, -0.2316,  1.9180, -0.5754],\n",
      "         [ 1.2252,  1.5399,  1.1567, -0.2838,  0.0069],\n",
      "         [-0.3349, -0.6520,  0.3584, -0.3337, -0.6907],\n",
      "         [ 0.0697,  1.0285,  0.9034,  1.3013, -1.0061]]])\n"
     ]
    },
    {
     "data": {
      "text/plain": [
       "tensor([[[ 1.6765,  2.1930,  0.0749,    -inf,    -inf],\n",
       "         [-0.0350,  0.3943, -0.2316,    -inf,    -inf],\n",
       "         [ 1.2252,  1.5399,  1.1567,    -inf,    -inf],\n",
       "         [-0.3349, -0.6520,  0.3584,    -inf,    -inf],\n",
       "         [ 0.0697,  1.0285,  0.9034,    -inf,    -inf]]])"
      ]
     },
     "execution_count": 9,
     "metadata": {},
     "output_type": "execute_result"
    }
   ],
   "source": [
    "import torch\n",
    "import torch.nn as nn\n",
    "\n",
    "# 假设 input_ids 是输入序列\n",
    "input_ids = [101, 2023, 3045, 0, 0]  # 0 表示填充部分\n",
    "\n",
    "# 对应的 attention_mask\n",
    "attention_mask = [1, 1, 1, 0, 0]\n",
    "\n",
    "# 将 attention_mask 转换为张量\n",
    "attention_mask = torch.tensor(attention_mask, dtype=torch.float)\n",
    "\n",
    "# 假设 attention_scores 是计算得到的注意力分数\n",
    "attention_scores = torch.randn(1, 5, 5)  # 示例形状\n",
    "\n",
    "print(attention_scores)\n",
    "attention_mask = attention_mask.unsqueeze(0).unsqueeze(1)  # (1, 1, 1, 5)\n",
    "\n",
    "\n",
    "attention_scores = attention_scores.masked_fill(attention_mask == 0, float('-inf'))\n",
    "\n",
    "attention_scores"
   ]
  },
  {
   "cell_type": "code",
   "execution_count": 5,
   "id": "fb37533b",
   "metadata": {},
   "outputs": [
    {
     "data": {
      "text/plain": [
       "tensor([[[1., 1., 1., 0., 0.]]])"
      ]
     },
     "execution_count": 5,
     "metadata": {},
     "output_type": "execute_result"
    }
   ],
   "source": [
    "attention_mask"
   ]
  },
  {
   "cell_type": "code",
   "execution_count": 13,
   "id": "a4edb0b1",
   "metadata": {},
   "outputs": [
    {
     "name": "stdout",
     "output_type": "stream",
     "text": [
      "tensor([[[ 2.0448,  1.9707, -0.8814],\n",
      "         [-0.4155,  0.8777, -0.4740]],\n",
      "\n",
      "        [[-0.2977, -0.1203, -0.7463],\n",
      "         [-0.5443,  0.0438,  0.0562]]])\n"
     ]
    }
   ],
   "source": [
    "import torch\n",
    "\n",
    "def gather_indexes(sequence_tensor, positions):\n",
    "    batch_size, seq_length, width = sequence_tensor.shape\n",
    "    # positions应该是一个形状为[batch_size, n_positions]的张量\n",
    "    # 其中n_positions是要从每个序列中提取的位置数\n",
    "    # 我们假设positions中的值是有效的，即在[0, seq_length)范围内\n",
    "    return sequence_tensor.gather(1, positions.unsqueeze(-1).expand(-1, -1, width)).squeeze(1)\n",
    "\n",
    "# 示例使用\n",
    "sequence_tensor = torch.randn(2, 4, 3)  # 假设的序列张量，形状为[batch_size, seq_length, width]\n",
    "positions = torch.tensor([[1, 3], [0, 2]])  # 我们想要从每个序列中提取的位置索引\n",
    "\n",
    "gathered_tensor = gather_indexes(sequence_tensor, positions)\n",
    "print(gathered_tensor)\n"
   ]
  },
  {
   "cell_type": "code",
   "execution_count": 14,
   "id": "4cfe6f9c",
   "metadata": {},
   "outputs": [
    {
     "data": {
      "text/plain": [
       "torch.Size([2, 2, 3])"
      ]
     },
     "execution_count": 14,
     "metadata": {},
     "output_type": "execute_result"
    }
   ],
   "source": [
    "gathered_tensor.shape"
   ]
  },
  {
   "cell_type": "code",
   "execution_count": 15,
   "id": "c1abfefd",
   "metadata": {},
   "outputs": [
    {
     "name": "stdout",
     "output_type": "stream",
     "text": [
      "tensor([[[ 2.0448,  1.9707, -0.8814],\n",
      "         [-0.4155,  0.8777, -0.4740]],\n",
      "\n",
      "        [[-0.2977, -0.1203, -0.7463],\n",
      "         [-0.5443,  0.0438,  0.0562]]])\n"
     ]
    }
   ],
   "source": [
    "import torch\n",
    "\n",
    "def gather_indexes(sequence_tensor, positions):\n",
    "    batch_size, seq_length, width = sequence_tensor.shape\n",
    "    # 将positions扩展为与sequence_tensor相同的形状\n",
    "    # positions的形状为[batch_size, n_positions]\n",
    "    expanded_positions = positions.unsqueeze(-1).repeat(1, 1, width)\n",
    "    # 使用torch.gather来根据expanded_positions从sequence_tensor中收集数据\n",
    "    # 注意，这里我们沿着dim=1（序列长度维度）进行聚集\n",
    "    gathered = sequence_tensor.gather(1, expanded_positions)\n",
    "    return gathered\n",
    "\n",
    "gathered_tensor = gather_indexes(sequence_tensor, positions)\n",
    "print(gathered_tensor)\n"
   ]
  },
  {
   "cell_type": "code",
   "execution_count": 16,
   "id": "2fa18b3d",
   "metadata": {},
   "outputs": [],
   "source": [
    "def gather_indexes(sequence_tensor, positions):\n",
    "    sequence_shape = list(sequence_tensor.shape)\n",
    "    batch_size = sequence_shape[0]\n",
    "    seq_length = sequence_shape[1]\n",
    "    width = sequence_shape[2]\n",
    "\n",
    "    flat_offsets = torch.arange(0, batch_size, dtype=torch.int64).reshape(-1, 1) * seq_length\n",
    "    flat_positions = (positions + flat_offsets).reshape(-1)\n",
    "    flat_sequence_tensor = sequence_tensor.reshape(batch_size * seq_length, width)\n",
    "    output_tensor = flat_sequence_tensor[flat_positions]\n",
    "    return output_tensor"
   ]
  },
  {
   "cell_type": "code",
   "execution_count": 17,
   "id": "b2357c0e",
   "metadata": {},
   "outputs": [
    {
     "data": {
      "text/plain": [
       "tensor([[ 2.0448,  1.9707, -0.8814],\n",
       "        [-0.4155,  0.8777, -0.4740],\n",
       "        [-0.2977, -0.1203, -0.7463],\n",
       "        [-0.5443,  0.0438,  0.0562]])"
      ]
     },
     "execution_count": 17,
     "metadata": {},
     "output_type": "execute_result"
    }
   ],
   "source": [
    "gather_indexes(sequence_tensor, positions)"
   ]
  },
  {
   "cell_type": "code",
   "execution_count": 20,
   "id": "c44d4f79",
   "metadata": {},
   "outputs": [],
   "source": [
    "import torch\n",
    "import torch.nn as nn\n",
    "import torch.nn.functional as F\n",
    "\n",
    "class GroupAttention(nn.Module):\n",
    "    def __init__(self, embed_dim, num_heads, group_size):\n",
    "        super(GroupAttention, self).__init__()\n",
    "        self.embed_dim = embed_dim\n",
    "        self.num_heads = num_heads\n",
    "        self.group_size = group_size\n",
    "        self.head_dim = embed_dim // num_heads\n",
    "        assert self.head_dim * num_heads == embed_dim, \"embed_dim must be divisible by num_heads\"\n",
    "\n",
    "        self.q_proj = nn.Linear(embed_dim, embed_dim)\n",
    "        self.k_proj = nn.Linear(embed_dim, embed_dim)\n",
    "        self.v_proj = nn.Linear(embed_dim, embed_dim)\n",
    "        self.out_proj = nn.Linear(embed_dim, embed_dim)\n",
    "\n",
    "    def forward(self, x, mask=None):\n",
    "        # x: (batch_size, seq_len, embed_dim)\n",
    "        batch_size, seq_len, _ = x.size()\n",
    "\n",
    "        # 将序列分成多个组\n",
    "        num_groups = seq_len // self.group_size\n",
    "        x = x.view(batch_size, num_groups, self.group_size, self.embed_dim)\n",
    "\n",
    "        # 计算 Q, K, V\n",
    "        q = self.q_proj(x).view(batch_size, num_groups, self.group_size, self.num_heads, self.head_dim).transpose(2, 3)\n",
    "        k = self.k_proj(x).view(batch_size, num_groups, self.group_size, self.num_heads, self.head_dim).transpose(2, 3)\n",
    "        v = self.v_proj(x).view(batch_size, num_groups, self.group_size, self.num_heads, self.head_dim).transpose(2, 3)\n",
    "\n",
    "        # 自注意力计算\n",
    "        attn_weights = torch.matmul(q, k.transpose(-2, -1)) / (self.head_dim ** 0.5)\n",
    "        if mask is not None:\n",
    "            mask = mask.view(batch_size, num_groups, 1, 1, self.group_size, self.group_size)\n",
    "            attn_weights = attn_weights.masked_fill(mask == 0, float('-inf'))\n",
    "        attn_weights = F.softmax(attn_weights, dim=-1)\n",
    "\n",
    "        # 应用注意力权重\n",
    "        attn_output = torch.matmul(attn_weights, v).transpose(2, 3).contiguous()\n",
    "        attn_output = attn_output.view(batch_size, num_groups, self.group_size, self.embed_dim)\n",
    "\n",
    "        # 合并组\n",
    "        attn_output = attn_output.view(batch_size, seq_len, self.embed_dim)\n",
    "\n",
    "        # 输出投影\n",
    "        output = self.out_proj(attn_output)\n",
    "\n",
    "        return output"
   ]
  },
  {
   "cell_type": "code",
   "execution_count": 21,
   "id": "72aab4e7",
   "metadata": {},
   "outputs": [
    {
     "name": "stdout",
     "output_type": "stream",
     "text": [
      "Input Tensor Shape: torch.Size([2, 32, 64])\n",
      "Output Tensor Shape: torch.Size([2, 32, 64])\n"
     ]
    }
   ],
   "source": [
    "# 示例数据\n",
    "batch_size = 2\n",
    "seq_len = 32\n",
    "embed_dim = 64\n",
    "num_heads = 8\n",
    "group_size = 4\n",
    "\n",
    "# 创建一个随机输入张量\n",
    "x = torch.randn(batch_size, seq_len, embed_dim)\n",
    "\n",
    "# 创建 Group Attention 层\n",
    "group_attn = GroupAttention(embed_dim, num_heads, group_size)\n",
    "\n",
    "# 前向传播\n",
    "output = group_attn(x)\n",
    "\n",
    "print(\"Input Tensor Shape:\", x.shape)\n",
    "print(\"Output Tensor Shape:\", output.shape)"
   ]
  },
  {
   "cell_type": "code",
   "execution_count": 22,
   "id": "4528c790",
   "metadata": {},
   "outputs": [],
   "source": [
    "import torch\n",
    "import math\n",
    "\n",
    "def get_rotary_position_embedding(seq_len, dim):\n",
    "    position = torch.arange(0, seq_len, dtype=torch.float32).unsqueeze(1)\n",
    "    div_term = 1. / (10000 ** (torch.arange(0, dim, 2).float() / dim))\n",
    "    pe = torch.zeros(seq_len, dim)\n",
    "    pe[:, 0::2] = torch.sin(position * div_term)\n",
    "    pe[:, 1::2] = torch.cos(position * div_term)\n",
    "    return pe"
   ]
  },
  {
   "cell_type": "code",
   "execution_count": 23,
   "id": "9febc4d8",
   "metadata": {},
   "outputs": [
    {
     "data": {
      "text/plain": [
       "tensor([[ 0.0000e+00,  1.0000e+00,  0.0000e+00,  1.0000e+00,  0.0000e+00,\n",
       "          1.0000e+00,  0.0000e+00,  1.0000e+00,  0.0000e+00,  1.0000e+00],\n",
       "        [ 8.4147e-01,  5.4030e-01,  1.5783e-01,  9.8747e-01,  2.5116e-02,\n",
       "          9.9968e-01,  3.9811e-03,  9.9999e-01,  6.3096e-04,  1.0000e+00],\n",
       "        [ 9.0930e-01, -4.1615e-01,  3.1170e-01,  9.5018e-01,  5.0217e-02,\n",
       "          9.9874e-01,  7.9621e-03,  9.9997e-01,  1.2619e-03,  1.0000e+00],\n",
       "        [ 1.4112e-01, -9.8999e-01,  4.5775e-01,  8.8908e-01,  7.5285e-02,\n",
       "          9.9716e-01,  1.1943e-02,  9.9993e-01,  1.8929e-03,  1.0000e+00],\n",
       "        [-7.5680e-01, -6.5364e-01,  5.9234e-01,  8.0569e-01,  1.0031e-01,\n",
       "          9.9496e-01,  1.5924e-02,  9.9987e-01,  2.5238e-03,  1.0000e+00]])"
      ]
     },
     "execution_count": 23,
     "metadata": {},
     "output_type": "execute_result"
    }
   ],
   "source": [
    "seq_len=5\n",
    "dim=10\n",
    "rope=get_rotary_position_embedding(seq_len, dim)\n",
    "rope"
   ]
  },
  {
   "cell_type": "code",
   "execution_count": 24,
   "id": "7eb78a13",
   "metadata": {},
   "outputs": [],
   "source": [
    "def apply_rotary_position_embedding(x, rope):\n",
    "    # 分离奇数和偶数索引\n",
    "    x1 = x[..., ::2]  # 偶数索引\n",
    "    x2 = x[..., 1::2]  # 奇数索引\n",
    "\n",
    "    # 从rope中获取相应的cosine和sine部分\n",
    "    cos_pos = rope[:, 0::2].repeat((x.size(0), x.size(1), 1, 1))  # 偶数索引\n",
    "    sin_pos = rope[:, 1::2].repeat((x.size(0), x.size(1), 1, 1))  # 奇数索引\n",
    "\n",
    "    # 应用旋转位置编码\n",
    "    return torch.cat([x1 * cos_pos - x2 * sin_pos, x2 * cos_pos + x1 * sin_pos], dim=-1)"
   ]
  },
  {
   "cell_type": "code",
   "execution_count": 25,
   "id": "6db7512d",
   "metadata": {},
   "outputs": [
    {
     "data": {
      "text/plain": [
       "torch.Size([16, 2, 5, 10])"
      ]
     },
     "execution_count": 25,
     "metadata": {},
     "output_type": "execute_result"
    }
   ],
   "source": [
    "x=torch.rand(16,2,5,10)\n",
    "apply_rotary_position_embedding(x, rope).shape"
   ]
  },
  {
   "cell_type": "code",
   "execution_count": 26,
   "id": "658de51e",
   "metadata": {},
   "outputs": [],
   "source": [
    "class RotaryPositionAttention(torch.nn.Module):\n",
    "    def __init__(self, embed_dim, num_heads):\n",
    "        super(RotaryPositionAttention, self).__init__()\n",
    "        self.embed_dim = embed_dim\n",
    "        self.num_heads = num_heads\n",
    "        self.head_dim = embed_dim // num_heads\n",
    "        assert self.head_dim * num_heads == embed_dim, \"embed_dim must be divisible by num_heads\"\n",
    "        \n",
    "        self.q_proj = torch.nn.Linear(embed_dim, embed_dim)\n",
    "        self.k_proj = torch.nn.Linear(embed_dim, embed_dim)\n",
    "        self.v_proj = torch.nn.Linear(embed_dim, embed_dim)\n",
    "        self.out_proj = torch.nn.Linear(embed_dim, embed_dim)\n",
    "\n",
    "    def forward(self, query, key, value, mask=None):\n",
    "        batch_size, seq_len, _ = query.size()\n",
    "        q = self.q_proj(query).view(batch_size, -1, self.num_heads, self.head_dim).transpose(1, 2)\n",
    "        k = self.k_proj(key).view(batch_size, -1, self.num_heads, self.head_dim).transpose(1, 2)\n",
    "        v = self.v_proj(value).view(batch_size, -1, self.num_heads, self.head_dim).transpose(1, 2)\n",
    "        \n",
    "        # 生成并应用旋转位置编码\n",
    "        rope = get_rotary_position_embedding(seq_len, self.head_dim)\n",
    "        q = apply_rotary_position_embedding(q, rope)\n",
    "        k = apply_rotary_position_embedding(k, rope)\n",
    "        \n",
    "        # 计算注意力权重\n",
    "        attn_weights = torch.matmul(q, k.transpose(-2, -1)) / math.sqrt(self.head_dim)\n",
    "        if mask is not None:\n",
    "            attn_weights = attn_weights.masked_fill(mask == 0, -1e9)\n",
    "        attn_weights = torch.softmax(attn_weights, dim=-1)\n",
    "        \n",
    "        # 应用注意力权重\n",
    "        attn_output = torch.matmul(attn_weights, v).transpose(1, 2).contiguous().view(batch_size, -1, self.embed_dim)\n",
    "        output = self.out_proj(attn_output)\n",
    "        return output"
   ]
  },
  {
   "cell_type": "code",
   "execution_count": 27,
   "id": "32653a0c",
   "metadata": {},
   "outputs": [
    {
     "data": {
      "image/png": "[encoded data removed]",
      "text/plain": [
       "<Figure size 800x600 with 2 Axes>"
      ]
     },
     "metadata": {},
     "output_type": "display_data"
    }
   ],
   "source": [
    "import torch\n",
    "import math\n",
    "import matplotlib.pyplot as plt\n",
    "\n",
    "# 生成旋转位置编码\n",
    "def get_rotary_position_embedding(seq_len, dim):\n",
    "    position = torch.arange(0, seq_len, dtype=torch.float32).unsqueeze(1)\n",
    "    div_term = 1. / (10000 ** (torch.arange(0, dim, 2).float() / dim))\n",
    "    pe = torch.zeros(seq_len, dim)\n",
    "    pe[:, 0::2] = torch.sin(position * div_term)\n",
    "    pe[:, 1::2] = torch.cos(position * div_term)\n",
    "    return pe\n",
    "\n",
    "# 计算并绘制点积矩阵\n",
    "def plot_dot_product_matrix(rope, title=\"Dot Product Matrix\"):\n",
    "    dot_products = torch.matmul(rope, rope.t())\n",
    "    plt.figure(figsize=(8, 6))\n",
    "    plt.imshow(dot_products, cmap='viridis', origin='lower')\n",
    "    plt.colorbar()\n",
    "    plt.title(title)\n",
    "    plt.xlabel('Position in Sequence')\n",
    "    plt.ylabel('Position in Sequence')\n",
    "    plt.show()\n",
    "\n",
    "# 设置参数\n",
    "seq_length = 50  # 序列长度\n",
    "embedding_dim = 32  # 嵌入维度\n",
    "\n",
    "# 生成旋转位置编码\n",
    "rope = get_rotary_position_embedding(seq_length, embedding_dim)\n",
    "\n",
    "# 绘制点积矩阵\n",
    "plot_dot_product_matrix(rope, \"Dot Product of Rotary Position Embeddings\")"
   ]
  },
  {
   "cell_type": "code",
   "execution_count": 28,
   "id": "bca69ff5",
   "metadata": {},
   "outputs": [
    {
     "data": {
      "image/png": "[encoded data removed]",
      "text/plain": [
       "<Figure size 1000x600 with 1 Axes>"
      ]
     },
     "metadata": {},
     "output_type": "display_data"
    }
   ],
   "source": [
    "import torch\n",
    "import math\n",
    "import matplotlib.pyplot as plt\n",
    "\n",
    "# 生成旋转位置编码\n",
    "def get_rotary_position_embedding(seq_len, dim):\n",
    "    position = torch.arange(0, seq_len, dtype=torch.float32).unsqueeze(1)\n",
    "    div_term = 1. / (10000 ** (torch.arange(0, dim, 2).float() / dim))\n",
    "    pe = torch.zeros(seq_len, dim)\n",
    "    pe[:, 0::2] = torch.sin(position * div_term)\n",
    "    pe[:, 1::2] = torch.cos(position * div_term)\n",
    "    return pe\n",
    "\n",
    "# 计算并绘制点积随相对位置变化的曲线\n",
    "def plot_dot_product_vs_distance(rope, reference_pos=0, title=\"Dot Product vs. Relative Distance\"):\n",
    "    # 参考位置编码\n",
    "    ref_pe = rope[reference_pos]\n",
    "    \n",
    "    # 相对距离和对应的点积值\n",
    "    distances = []\n",
    "    dot_products = []\n",
    "    \n",
    "    for pos in range(len(rope)):\n",
    "        if pos != reference_pos:\n",
    "            distance = abs(pos - reference_pos)\n",
    "            dot_product = torch.dot(ref_pe, rope[pos]).item()\n",
    "            distances.append(distance)\n",
    "            dot_products.append(dot_product)\n",
    "\n",
    "    # 绘制点积随距离变化的曲线\n",
    "    plt.figure(figsize=(10, 6))\n",
    "    plt.plot(distances, dot_products, marker='o')\n",
    "    plt.title(title)\n",
    "    plt.xlabel('Relative Distance from Position ' + str(reference_pos))\n",
    "    plt.ylabel('Dot Product Value')\n",
    "    plt.grid(True)\n",
    "    plt.show()\n",
    "\n",
    "# 设置参数\n",
    "seq_length = 100  # 序列长度\n",
    "embedding_dim = 64  # 嵌入维度\n",
    "\n",
    "# 生成旋转位置编码\n",
    "rope = get_rotary_position_embedding(seq_length, embedding_dim)\n",
    "\n",
    "# 绘制点积随相对位置变化的曲线\n",
    "plot_dot_product_vs_distance(rope, reference_pos=0)"
   ]
  },
  {
   "cell_type": "code",
   "execution_count": 29,
   "id": "01837f1c",
   "metadata": {},
   "outputs": [],
   "source": [
    "import torch\n",
    "import math\n",
    "import matplotlib.pyplot as plt\n",
    "\n",
    "# 生成旋转位置编码\n",
    "def get_rotary_position_embedding(seq_len, dim):\n",
    "    position = torch.arange(0, seq_len, dtype=torch.float32).unsqueeze(1)\n",
    "    div_term = 1. / (10000 ** (torch.arange(0, dim, 2).float() / dim))\n",
    "    pe = torch.zeros(seq_len, dim)\n",
    "    pe[:, 0::2] = torch.sin(position * div_term)\n",
    "    pe[:, 1::2] = torch.cos(position * div_term)\n",
    "    return pe\n",
    "\n",
    "# 计算并绘制点积随相对位置变化的曲线\n",
    "def plot_dot_product_vs_distance(rope, reference_pos=0, title=\"Dot Product vs. Relative Distance\"):\n",
    "    # 参考位置编码\n",
    "    ref_pe = rope[reference_pos]\n",
    "    \n",
    "    # 相对距离和对应的点积值\n",
    "    distances = []\n",
    "    dot_products = []\n",
    "    \n",
    "    for pos in range(len(rope)):\n",
    "        if pos != reference_pos:\n",
    "            distance = abs(pos - reference_pos)\n",
    "            dot_product = torch.dot(ref_pe, rope[pos]).item()\n",
    "            distances.append(distance/3)\n",
    "            dot_products.append(dot_product)\n",
    "\n",
    "    # 绘制点积随距离变化的曲线\n",
    "    plt.figure(figsize=(10, 6))\n",
    "    plt.plot( dot_products, marker='o',label=\"dot\")\n",
    "    plt.plot(distances, marker='s',label=\"position\")\n",
    "    plt.title(title)\n",
    "    plt.xlabel('Relative Distance from Position ' + str(reference_pos))\n",
    "    plt.ylabel('Dot Product Value')\n",
    "    plt.grid(True)\n",
    "    plt.show()\n",
    "\n",
    "# 设置参数\n",
    "seq_length = 100  # 序列长度\n",
    "embedding_dim = 64  # 嵌入维度\n",
    "\n",
    "# 生成旋转位置编码\n",
    "rope = get_rotary_position_embedding(seq_length, embedding_dim)\n",
    "\n",
    "# 绘制点积随相对位置变化的曲线\n",
    "# plot_dot_product_vs_distance(rope, reference_pos=50)"
   ]
  },
  {
   "cell_type": "code",
   "execution_count": 30,
   "id": "1bcbbc0f",
   "metadata": {
    "scrolled": true
   },
   "outputs": [
    {
     "data": {
      "text/plain": [
       "tensor([[[ 1.0000e+00,  0.0000e+00],\n",
       "         [ 1.0000e+00,  0.0000e+00],\n",
       "         [ 1.0000e+00,  0.0000e+00],\n",
       "         [ 1.0000e+00,  0.0000e+00],\n",
       "         [ 1.0000e+00,  0.0000e+00],\n",
       "         [ 1.0000e+00,  0.0000e+00],\n",
       "         [ 1.0000e+00,  0.0000e+00],\n",
       "         [ 1.0000e+00,  0.0000e+00],\n",
       "         [ 1.0000e+00,  0.0000e+00],\n",
       "         [ 1.0000e+00,  0.0000e+00]],\n",
       "\n",
       "        [[ 5.4030e-01,  8.4147e-01],\n",
       "         [ 9.2180e-01,  3.8767e-01],\n",
       "         [ 9.8747e-01,  1.5783e-01],\n",
       "         [ 9.9801e-01,  6.3054e-02],\n",
       "         [ 9.9968e-01,  2.5116e-02],\n",
       "         [ 9.9995e-01,  9.9998e-03],\n",
       "         [ 9.9999e-01,  3.9811e-03],\n",
       "         [ 1.0000e+00,  1.5849e-03],\n",
       "         [ 1.0000e+00,  6.3096e-04],\n",
       "         [ 1.0000e+00,  2.5119e-04]],\n",
       "\n",
       "        [[-4.1615e-01,  9.0930e-01],\n",
       "         [ 6.9942e-01,  7.1471e-01],\n",
       "         [ 9.5018e-01,  3.1170e-01],\n",
       "         [ 9.9205e-01,  1.2586e-01],\n",
       "         [ 9.9874e-01,  5.0217e-02],\n",
       "         [ 9.9980e-01,  1.9999e-02],\n",
       "         [ 9.9997e-01,  7.9621e-03],\n",
       "         [ 9.9999e-01,  3.1698e-03],\n",
       "         [ 1.0000e+00,  1.2619e-03],\n",
       "         [ 1.0000e+00,  5.0238e-04]],\n",
       "\n",
       "        [[-9.8999e-01,  1.4112e-01],\n",
       "         [ 3.6764e-01,  9.2997e-01],\n",
       "         [ 8.8908e-01,  4.5775e-01],\n",
       "         [ 9.8214e-01,  1.8816e-01],\n",
       "         [ 9.9716e-01,  7.5285e-02],\n",
       "         [ 9.9955e-01,  2.9995e-02],\n",
       "         [ 9.9993e-01,  1.1943e-02],\n",
       "         [ 9.9999e-01,  4.7547e-03],\n",
       "         [ 1.0000e+00,  1.8929e-03],\n",
       "         [ 1.0000e+00,  7.5357e-04]],\n",
       "\n",
       "        [[-6.5364e-01, -7.5680e-01],\n",
       "         [-2.1631e-02,  9.9977e-01],\n",
       "         [ 8.0569e-01,  5.9234e-01],\n",
       "         [ 9.6832e-01,  2.4971e-01],\n",
       "         [ 9.9496e-01,  1.0031e-01],\n",
       "         [ 9.9920e-01,  3.9989e-02],\n",
       "         [ 9.9987e-01,  1.5924e-02],\n",
       "         [ 9.9998e-01,  6.3395e-03],\n",
       "         [ 1.0000e+00,  2.5238e-03],\n",
       "         [ 1.0000e+00,  1.0048e-03]]])"
      ]
     },
     "execution_count": 30,
     "metadata": {},
     "output_type": "execute_result"
    }
   ],
   "source": [
    "def precompute_freqs_cis(dim: int, end: int, theta: float = 10000.0, use_scaled: bool = False):\n",
    "    freqs = 1.0 / (theta ** (torch.arange(0, dim, 2)[: (dim // 2)].float() / dim))\n",
    "    t = torch.arange(end, device=freqs.device, dtype=torch.float32)\n",
    "    if use_scaled:\n",
    "        freqs = apply_scaling(freqs)\n",
    "    freqs = torch.outer(t, freqs)\n",
    "    freqs_cis = torch.polar(torch.ones_like(freqs), freqs)  # complex64\n",
    "    freqs_cis_real = torch.stack([freqs_cis.real, freqs_cis.imag], dim=-1)\n",
    "    return freqs_cis_real\n",
    "def get_rotary_position_embedding(seq_len, dim):\n",
    "    position = torch.arange(0, seq_len, dtype=torch.float32).unsqueeze(1)\n",
    "    div_term = 1. / (10000 ** (torch.arange(0, dim, 2).float() / dim))\n",
    "    pe = torch.zeros(seq_len, dim)\n",
    "    pe[:, 0::2] = torch.cos(position * div_term)\n",
    "    pe[:, 1::2] = torch.sin(position * div_term)\n",
    "    return pe.reshape(*pe.shape[:-1] ,-1, 2)\n",
    "dim=20\n",
    "end=seq_len=5\n",
    "rope=precompute_freqs_cis(dim,end)\n",
    "rope"
   ]
  },
  {
   "cell_type": "code",
   "execution_count": 31,
   "id": "5e62dcca",
   "metadata": {
    "scrolled": true
   },
   "outputs": [
    {
     "data": {
      "text/plain": [
       "tensor([[[ 1.0000e+00,  0.0000e+00],\n",
       "         [ 1.0000e+00,  0.0000e+00],\n",
       "         [ 1.0000e+00,  0.0000e+00],\n",
       "         [ 1.0000e+00,  0.0000e+00],\n",
       "         [ 1.0000e+00,  0.0000e+00],\n",
       "         [ 1.0000e+00,  0.0000e+00],\n",
       "         [ 1.0000e+00,  0.0000e+00],\n",
       "         [ 1.0000e+00,  0.0000e+00],\n",
       "         [ 1.0000e+00,  0.0000e+00],\n",
       "         [ 1.0000e+00,  0.0000e+00]],\n",
       "\n",
       "        [[ 5.4030e-01,  8.4147e-01],\n",
       "         [ 9.2180e-01,  3.8767e-01],\n",
       "         [ 9.8747e-01,  1.5783e-01],\n",
       "         [ 9.9801e-01,  6.3054e-02],\n",
       "         [ 9.9968e-01,  2.5116e-02],\n",
       "         [ 9.9995e-01,  9.9998e-03],\n",
       "         [ 9.9999e-01,  3.9811e-03],\n",
       "         [ 1.0000e+00,  1.5849e-03],\n",
       "         [ 1.0000e+00,  6.3096e-04],\n",
       "         [ 1.0000e+00,  2.5119e-04]],\n",
       "\n",
       "        [[-4.1615e-01,  9.0930e-01],\n",
       "         [ 6.9942e-01,  7.1471e-01],\n",
       "         [ 9.5018e-01,  3.1170e-01],\n",
       "         [ 9.9205e-01,  1.2586e-01],\n",
       "         [ 9.9874e-01,  5.0217e-02],\n",
       "         [ 9.9980e-01,  1.9999e-02],\n",
       "         [ 9.9997e-01,  7.9621e-03],\n",
       "         [ 9.9999e-01,  3.1698e-03],\n",
       "         [ 1.0000e+00,  1.2619e-03],\n",
       "         [ 1.0000e+00,  5.0238e-04]],\n",
       "\n",
       "        [[-9.8999e-01,  1.4112e-01],\n",
       "         [ 3.6764e-01,  9.2997e-01],\n",
       "         [ 8.8908e-01,  4.5775e-01],\n",
       "         [ 9.8214e-01,  1.8816e-01],\n",
       "         [ 9.9716e-01,  7.5285e-02],\n",
       "         [ 9.9955e-01,  2.9995e-02],\n",
       "         [ 9.9993e-01,  1.1943e-02],\n",
       "         [ 9.9999e-01,  4.7547e-03],\n",
       "         [ 1.0000e+00,  1.8929e-03],\n",
       "         [ 1.0000e+00,  7.5357e-04]],\n",
       "\n",
       "        [[-6.5364e-01, -7.5680e-01],\n",
       "         [-2.1631e-02,  9.9977e-01],\n",
       "         [ 8.0569e-01,  5.9234e-01],\n",
       "         [ 9.6832e-01,  2.4971e-01],\n",
       "         [ 9.9496e-01,  1.0031e-01],\n",
       "         [ 9.9920e-01,  3.9989e-02],\n",
       "         [ 9.9987e-01,  1.5924e-02],\n",
       "         [ 9.9998e-01,  6.3395e-03],\n",
       "         [ 1.0000e+00,  2.5238e-03],\n",
       "         [ 1.0000e+00,  1.0048e-03]]])"
      ]
     },
     "execution_count": 31,
     "metadata": {},
     "output_type": "execute_result"
    }
   ],
   "source": [
    "a2=get_rotary_position_embedding(seq_len, dim)\n",
    "a2"
   ]
  },
  {
   "cell_type": "code",
   "execution_count": 32,
   "id": "f25218be",
   "metadata": {},
   "outputs": [
    {
     "data": {
      "text/plain": [
       "(5, 10)"
      ]
     },
     "execution_count": 32,
     "metadata": {},
     "output_type": "execute_result"
    }
   ],
   "source": [
    "*a2.shape[:-1],"
   ]
  },
  {
   "cell_type": "code",
   "execution_count": null,
   "id": "2ce03434",
   "metadata": {},
   "outputs": [],
   "source": [
    "521436571234561732541637"
   ]
  },
  {
   "cell_type": "code",
   "execution_count": null,
   "id": "eca26cf3",
   "metadata": {},
   "outputs": [],
   "source": [
    "52143657 12345617 3 25 4163 7"
   ]
  },
  {
   "cell_type": "code",
   "execution_count": null,
   "id": "b3258b06",
   "metadata": {},
   "outputs": [],
   "source": [
    "5 2143657 12345617 325416 3 7\n",
    "\n",
    "5 1 3 5 1 3 5 1 3 5 1 3 \n",
    "\n",
    "2 4 6 7 2 4 6 7 2 4 6 7\n"
   ]
  }
 ],
 "metadata": {
  "kernelspec": {
   "display_name": "torch2",
   "language": "python",
   "name": "torch2"
  },
  "language_info": {
   "codemirror_mode": {
    "name": "ipython",
    "version": 3
   },
   "file_extension": ".py",
   "mimetype": "text/x-python",
   "name": "python",
   "nbconvert_exporter": "python",
   "pygments_lexer": "ipython3",
   "version": "3.9.2"
  }
 },
 "nbformat": 4,
 "nbformat_minor": 5
}
