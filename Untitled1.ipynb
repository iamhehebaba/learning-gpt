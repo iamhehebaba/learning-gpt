{
 "cells": [
  {
   "cell_type": "code",
   "execution_count": 1,
   "id": "6d07e652-81e9-46e0-93ab-a39ddaf82f17",
   "metadata": {},
   "outputs": [],
   "source": [
    "import torch"
   ]
  },
  {
   "cell_type": "code",
   "execution_count": 2,
   "id": "305c5306-246d-4d5f-afd3-b8401f5d00ae",
   "metadata": {},
   "outputs": [],
   "source": [
    "def precompute_freqs_cis(dim: int, end: int, theta: float = 10000.0):\n",
    "    # 计算频率\n",
    "    # 使用theta和dim计算频率，频率按dim/2的比例递减\n",
    "    freqs = 1.0 / (theta ** (torch.arange(0, dim, 2)[: (dim // 2)].float() / dim))\n",
    "\n",
    "    # 生成时间向量\n",
    "    # 生成一个从0到end-1的向量，类型为float32，并与freqs在同一设备上\n",
    "    t = torch.arange(end, device=freqs.device, dtype=torch.float32)\n",
    "\n",
    "    # 计算外积，得到频率矩阵\n",
    "    # 将时间向量t和频率向量freqs进行外积操作，得到二维的频率矩阵\n",
    "    freqs = torch.outer(t, freqs)\n",
    "\n",
    "    # 计算复数频率矩阵\n",
    "    # 使用torch.polar函数将频率矩阵转换为复数形式，其中torch.ones_like(freqs)表示与freqs形状相同的全1矩阵\n",
    "    # freqs作为角度，表示复数在复平面上的角度\n",
    "    freqs_cis = torch.polar(torch.ones_like(freqs), freqs)  # complex64\n",
    "\n",
    "    return freqs_cis"
   ]
  },
  {
   "cell_type": "markdown",
   "id": "4cd8ed19-4baf-40fa-8555-e62ba91ecb21",
   "metadata": {},
   "source": [
    "# bb"
   ]
  },
  {
   "cell_type": "code",
   "execution_count": 24,
   "id": "3e931a6e-a1a5-4f32-94c6-55fe39989002",
   "metadata": {},
   "outputs": [
    {
     "name": "stdout",
     "output_type": "stream",
     "text": [
      "torch.Size([10, 6])\n"
     ]
    },
    {
     "data": {
      "text/plain": [
       "tensor([[ 1.0000+0.0000j,  1.0000+0.0000j,  1.0000+0.0000j,  1.0000+0.0000j,\n",
       "          1.0000+0.0000j,  1.0000+0.0000j],\n",
       "        [ 0.5403+0.8415j,  0.8942+0.4477j,  0.9769+0.2138j,  0.9950+0.0998j,\n",
       "          0.9989+0.0464j,  0.9998+0.0215j],\n",
       "        [-0.4161+0.9093j,  0.5992+0.8006j,  0.9086+0.4177j,  0.9801+0.1987j,\n",
       "          0.9957+0.0927j,  0.9991+0.0431j],\n",
       "        [-0.9900+0.1411j,  0.1774+0.9841j,  0.7983+0.6023j,  0.9553+0.2955j,\n",
       "          0.9903+0.1388j,  0.9979+0.0646j],\n",
       "        [-0.6536-0.7568j, -0.2820+0.9594j,  0.6511+0.7590j,  0.9211+0.3894j,\n",
       "          0.9828+0.1846j,  0.9963+0.0861j],\n",
       "        [ 0.2837-0.9589j, -0.6816+0.7317j,  0.4738+0.8806j,  0.8776+0.4794j,\n",
       "          0.9732+0.2300j,  0.9942+0.1075j],\n",
       "        [ 0.9602-0.2794j, -0.9371+0.3491j,  0.2746+0.9616j,  0.8253+0.5646j,\n",
       "          0.9615+0.2749j,  0.9917+0.1289j],\n",
       "        [ 0.7539+0.6570j, -0.9942-0.1073j,  0.0627+0.9980j,  0.7648+0.6442j,\n",
       "          0.9477+0.3192j,  0.9886+0.1502j],\n",
       "        [-0.1455+0.9894j, -0.8410-0.5410j, -0.1522+0.9884j,  0.6967+0.7174j,\n",
       "          0.9318+0.3629j,  0.9852+0.1715j],\n",
       "        [-0.9111+0.4121j, -0.5098-0.8603j, -0.3599+0.9330j,  0.6216+0.7833j,\n",
       "          0.9140+0.4057j,  0.9813+0.1927j]])"
      ]
     },
     "execution_count": 24,
     "metadata": {},
     "output_type": "execute_result"
    }
   ],
   "source": [
    "dim=12\n",
    "end=5*2\n",
    "theta=100\n",
    "freqs_cisa=precompute_freqs_cis(dim, end, theta)\n",
    "print(freqs_cisa.shape)\n",
    "freqs_cisa"
   ]
  },
  {
   "cell_type": "code",
   "execution_count": 25,
   "id": "57579509-5f5b-499c-bbbb-cd28eb1889e1",
   "metadata": {
    "editable": true,
    "slideshow": {
     "slide_type": ""
    },
    "tags": []
   },
   "outputs": [
    {
     "data": {
      "text/plain": [
       "tensor([1.0000, 0.4642, 0.2154, 0.1000, 0.0464, 0.0215])"
      ]
     },
     "execution_count": 25,
     "metadata": {},
     "output_type": "execute_result"
    }
   ],
   "source": [
    "freqs = 1.0 / (theta ** (torch.arange(0, dim, 2)[: (dim // 2)].float() / dim))\n",
    "freqs"
   ]
  },
  {
   "cell_type": "code",
   "execution_count": 26,
   "id": "5e05ed9e-c9e4-4ff6-98bb-6b1305b8ec78",
   "metadata": {},
   "outputs": [
    {
     "name": "stdout",
     "output_type": "stream",
     "text": [
      "tensor([ 0,  2,  4,  6,  8, 10])\n"
     ]
    },
    {
     "data": {
      "text/plain": [
       "tensor([1.0000, 0.4642, 0.2154, 0.1000, 0.0464, 0.0215])"
      ]
     },
     "execution_count": 26,
     "metadata": {},
     "output_type": "execute_result"
    }
   ],
   "source": [
    "a_ran=torch.arange(0, dim, 2)\n",
    "print(a_ran)\n",
    "1.0 / (theta ** (a_ran/ dim))"
   ]
  },
  {
   "cell_type": "code",
   "execution_count": 27,
   "id": "89ecd1f4-69ce-4f7e-9d57-3494562f8eef",
   "metadata": {},
   "outputs": [
    {
     "data": {
      "text/plain": [
       "tensor([0., 1., 2., 3., 4., 5., 6., 7., 8., 9.])"
      ]
     },
     "execution_count": 27,
     "metadata": {},
     "output_type": "execute_result"
    }
   ],
   "source": [
    "t = torch.arange(end, device=freqs.device, dtype=torch.float32)\n",
    "t"
   ]
  },
  {
   "cell_type": "code",
   "execution_count": 28,
   "id": "6f93ea0b-d40c-4577-847a-71b848d0b81e",
   "metadata": {},
   "outputs": [
    {
     "data": {
      "text/plain": [
       "torch.Size([10, 6])"
      ]
     },
     "execution_count": 28,
     "metadata": {},
     "output_type": "execute_result"
    }
   ],
   "source": [
    "freqs_cis = torch.outer(t, freqs)\n",
    "freqs_cis.shape"
   ]
  },
  {
   "cell_type": "code",
   "execution_count": null,
   "id": "9f676586-927a-47ae-b36b-dedbf67cb8d4",
   "metadata": {},
   "outputs": [],
   "source": []
  },
  {
   "cell_type": "code",
   "execution_count": 23,
   "id": "470c00b1-7ed7-4a24-a502-3de44183fa0a",
   "metadata": {},
   "outputs": [
    {
     "ename": "RuntimeError",
     "evalue": "Expected both inputs to be Half, Float or Double tensors but got ComplexFloat and ComplexFloat",
     "output_type": "error",
     "traceback": [
      "\u001b[0;31m---------------------------------------------------------------------------\u001b[0m",
      "\u001b[0;31mRuntimeError\u001b[0m                              Traceback (most recent call last)",
      "Cell \u001b[0;32mIn[23], line 1\u001b[0m\n\u001b[0;32m----> 1\u001b[0m freqs_cis\u001b[38;5;241m=\u001b[39m\u001b[43mtorch\u001b[49m\u001b[38;5;241;43m.\u001b[39;49m\u001b[43mpolar\u001b[49m\u001b[43m(\u001b[49m\u001b[43mtorch\u001b[49m\u001b[38;5;241;43m.\u001b[39;49m\u001b[43mones_like\u001b[49m\u001b[43m(\u001b[49m\u001b[43mfreqs_cis\u001b[49m\u001b[43m)\u001b[49m\u001b[43m,\u001b[49m\u001b[43m \u001b[49m\u001b[43mfreqs_cis\u001b[49m\u001b[43m)\u001b[49m \n\u001b[1;32m      2\u001b[0m freqs_cis\u001b[38;5;241m.\u001b[39mshape\n",
      "\u001b[0;31mRuntimeError\u001b[0m: Expected both inputs to be Half, Float or Double tensors but got ComplexFloat and ComplexFloat"
     ]
    }
   ],
   "source": [
    "freqs_cis=torch.polar(torch.ones_like(freqs_cis), freqs_cis) \n",
    "freqs_cis.shape"
   ]
  },
  {
   "cell_type": "code",
   "execution_count": 9,
   "id": "4ead1b68-e842-4709-9b87-376949289f32",
   "metadata": {},
   "outputs": [
    {
     "data": {
      "text/plain": [
       "tensor([[-inf, -inf, -inf, -inf, -inf],\n",
       "        [-inf, -inf, -inf, -inf, -inf],\n",
       "        [-inf, -inf, -inf, -inf, -inf],\n",
       "        [-inf, -inf, -inf, -inf, -inf],\n",
       "        [-inf, -inf, -inf, -inf, -inf]])"
      ]
     },
     "execution_count": 9,
     "metadata": {},
     "output_type": "execute_result"
    }
   ],
   "source": [
    "seqlen=5\n",
    "mask = torch.full((seqlen, seqlen), float(\"-inf\"))\n",
    "mask"
   ]
  },
  {
   "cell_type": "code",
   "execution_count": 10,
   "id": "6d107438-d487-49ac-8907-01e99da8dc0a",
   "metadata": {},
   "outputs": [
    {
     "data": {
      "text/plain": [
       "tensor([[0., -inf, -inf, -inf, -inf],\n",
       "        [0., 0., -inf, -inf, -inf],\n",
       "        [0., 0., 0., -inf, -inf],\n",
       "        [0., 0., 0., 0., -inf],\n",
       "        [0., 0., 0., 0., 0.]])"
      ]
     },
     "execution_count": 10,
     "metadata": {},
     "output_type": "execute_result"
    }
   ],
   "source": [
    "torch.triu(mask, diagonal=1)"
   ]
  },
  {
   "cell_type": "code",
   "execution_count": 11,
   "id": "cd7b5258-68e9-4eaa-88b5-55cc79c7d39e",
   "metadata": {},
   "outputs": [
    {
     "data": {
      "text/plain": [
       "tensor([[0., -inf, -inf, -inf, -inf],\n",
       "        [0., 0., -inf, -inf, -inf],\n",
       "        [0., 0., 0., -inf, -inf],\n",
       "        [0., 0., 0., 0., -inf],\n",
       "        [0., 0., 0., 0., 0.]])"
      ]
     },
     "execution_count": 11,
     "metadata": {},
     "output_type": "execute_result"
    }
   ],
   "source": [
    "torch.triu(mask, diagonal=1)"
   ]
  },
  {
   "cell_type": "code",
   "execution_count": 12,
   "id": "50ad2159-6635-4064-8036-b78c6918e3cf",
   "metadata": {},
   "outputs": [
    {
     "ename": "NameError",
     "evalue": "name 'xq' is not defined",
     "output_type": "error",
     "traceback": [
      "\u001b[0;31m---------------------------------------------------------------------------\u001b[0m",
      "\u001b[0;31mNameError\u001b[0m                                 Traceback (most recent call last)",
      "Cell \u001b[0;32mIn[12], line 1\u001b[0m\n\u001b[0;32m----> 1\u001b[0m xq_ \u001b[38;5;241m=\u001b[39m torch\u001b[38;5;241m.\u001b[39mview_as_complex(\u001b[43mxq\u001b[49m\u001b[38;5;241m.\u001b[39mfloat()\u001b[38;5;241m.\u001b[39mreshape(\u001b[38;5;241m*\u001b[39mxq\u001b[38;5;241m.\u001b[39mshape[:\u001b[38;5;241m-\u001b[39m\u001b[38;5;241m1\u001b[39m], \u001b[38;5;241m-\u001b[39m\u001b[38;5;241m1\u001b[39m, \u001b[38;5;241m2\u001b[39m))\n\u001b[1;32m      2\u001b[0m xk_ \u001b[38;5;241m=\u001b[39m torch\u001b[38;5;241m.\u001b[39mview_as_complex(xk\u001b[38;5;241m.\u001b[39mfloat()\u001b[38;5;241m.\u001b[39mreshape(\u001b[38;5;241m*\u001b[39mxk\u001b[38;5;241m.\u001b[39mshape[:\u001b[38;5;241m-\u001b[39m\u001b[38;5;241m1\u001b[39m], \u001b[38;5;241m-\u001b[39m\u001b[38;5;241m1\u001b[39m, \u001b[38;5;241m2\u001b[39m))\n\u001b[1;32m      3\u001b[0m freqs_cis \u001b[38;5;241m=\u001b[39m reshape_for_broadcast(freqs_cis, xq_)\n",
      "\u001b[0;31mNameError\u001b[0m: name 'xq' is not defined"
     ]
    }
   ],
   "source": [
    "xq_ = torch.view_as_complex(xq.float().reshape(*xq.shape[:-1], -1, 2))\n",
    "xk_ = torch.view_as_complex(xk.float().reshape(*xk.shape[:-1], -1, 2))\n",
    "freqs_cis = reshape_for_broadcast(freqs_cis, xq_)\n",
    "xq_out = torch.view_as_real(xq_ * freqs_cis).flatten(3)\n",
    "xk_out = torch.view_as_real(xk_ * freqs_cis).flatten(3)\n",
    "return xq_out.type_as(xq), xk_out.type_as(xk)"
   ]
  },
  {
   "cell_type": "code",
   "execution_count": 13,
   "id": "2d8b6ea9-3a37-4318-93fb-5456bde4a931",
   "metadata": {},
   "outputs": [],
   "source": [
    "xq=xk=xv=torch.rand(2,5,2,6)"
   ]
  },
  {
   "cell_type": "code",
   "execution_count": 14,
   "id": "6bd76f5e-fad1-4d5f-8fb1-df58f704da6b",
   "metadata": {
    "scrolled": true
   },
   "outputs": [
    {
     "data": {
      "text/plain": [
       "torch.Size([2, 5, 2, 3])"
      ]
     },
     "execution_count": 14,
     "metadata": {},
     "output_type": "execute_result"
    }
   ],
   "source": [
    "torch.view_as_complex(xq.float().reshape(*xq.shape[:-1], -1, 2)).shape"
   ]
  },
  {
   "cell_type": "code",
   "execution_count": 15,
   "id": "c306e31e-896a-4ea5-b5d0-37eb791621f8",
   "metadata": {
    "scrolled": true
   },
   "outputs": [
    {
     "name": "stdout",
     "output_type": "stream",
     "text": [
      "torch.Size([2, 5, 2, 3, 2])\n"
     ]
    },
    {
     "data": {
      "text/plain": [
       "tensor([[[[[0.9482, 0.6844],\n",
       "           [0.0404, 0.2734],\n",
       "           [0.0133, 0.3680]],\n",
       "\n",
       "          [[0.6782, 0.3446],\n",
       "           [0.0987, 0.4369],\n",
       "           [0.8220, 0.5797]]],\n",
       "\n",
       "\n",
       "         [[[0.3538, 0.4894],\n",
       "           [0.3086, 0.1011],\n",
       "           [0.0913, 0.8461]],\n",
       "\n",
       "          [[0.5866, 0.8737],\n",
       "           [0.2927, 0.5073],\n",
       "           [0.8743, 0.8935]]],\n",
       "\n",
       "\n",
       "         [[[0.2270, 0.4242],\n",
       "           [0.2717, 0.9504],\n",
       "           [0.1859, 0.3094]],\n",
       "\n",
       "          [[0.0360, 0.9082],\n",
       "           [0.7072, 0.1522],\n",
       "           [0.2418, 0.7199]]],\n",
       "\n",
       "\n",
       "         [[[0.3599, 0.0049],\n",
       "           [0.1972, 0.1454],\n",
       "           [0.8738, 0.1400]],\n",
       "\n",
       "          [[0.4422, 0.8308],\n",
       "           [0.6867, 0.9323],\n",
       "           [0.7432, 0.5373]]],\n",
       "\n",
       "\n",
       "         [[[0.0893, 0.5059],\n",
       "           [0.0165, 0.8682],\n",
       "           [0.5017, 0.2122]],\n",
       "\n",
       "          [[0.1720, 0.0419],\n",
       "           [0.5692, 0.6665],\n",
       "           [0.9631, 0.4854]]]],\n",
       "\n",
       "\n",
       "\n",
       "        [[[[0.7939, 0.4967],\n",
       "           [0.9008, 0.5299],\n",
       "           [0.0492, 0.6576]],\n",
       "\n",
       "          [[0.5615, 0.9786],\n",
       "           [0.7918, 0.2373],\n",
       "           [0.2537, 0.9371]]],\n",
       "\n",
       "\n",
       "         [[[0.6935, 0.6512],\n",
       "           [0.2113, 0.6199],\n",
       "           [0.0774, 0.6161]],\n",
       "\n",
       "          [[0.6005, 0.5400],\n",
       "           [0.4789, 0.4970],\n",
       "           [0.5925, 0.5327]]],\n",
       "\n",
       "\n",
       "         [[[0.2839, 0.8606],\n",
       "           [0.5041, 0.6455],\n",
       "           [0.1697, 0.2065]],\n",
       "\n",
       "          [[0.9066, 0.9193],\n",
       "           [0.8416, 0.0208],\n",
       "           [0.0467, 0.3330]]],\n",
       "\n",
       "\n",
       "         [[[0.8873, 0.3694],\n",
       "           [0.7213, 0.4273],\n",
       "           [0.5967, 0.6259]],\n",
       "\n",
       "          [[0.3936, 0.3773],\n",
       "           [0.6439, 0.5966],\n",
       "           [0.9847, 0.1889]]],\n",
       "\n",
       "\n",
       "         [[[0.5323, 0.5552],\n",
       "           [0.1605, 0.2900],\n",
       "           [0.4645, 0.4974]],\n",
       "\n",
       "          [[0.8052, 0.0721],\n",
       "           [0.5628, 0.3702],\n",
       "           [0.7664, 0.4187]]]]])"
      ]
     },
     "execution_count": 15,
     "metadata": {},
     "output_type": "execute_result"
    }
   ],
   "source": [
    "print(xq.float().reshape(*xq.shape[:-1], -1, 2).shape)\n",
    "xq.float().reshape(*xq.shape[:-1], -1, 2)"
   ]
  },
  {
   "cell_type": "code",
   "execution_count": 18,
   "id": "505b95d5-4663-4e13-bf68-a41f1b556a42",
   "metadata": {
    "scrolled": true
   },
   "outputs": [
    {
     "name": "stdout",
     "output_type": "stream",
     "text": [
      "torch.Size([2, 5, 2, 3])\n"
     ]
    },
    {
     "data": {
      "text/plain": [
       "tensor([[[[0.9482+0.6844j, 0.0404+0.2734j, 0.0133+0.3680j],\n",
       "          [0.6782+0.3446j, 0.0987+0.4369j, 0.8220+0.5797j]],\n",
       "\n",
       "         [[0.3538+0.4894j, 0.3086+0.1011j, 0.0913+0.8461j],\n",
       "          [0.5866+0.8737j, 0.2927+0.5073j, 0.8743+0.8935j]],\n",
       "\n",
       "         [[0.2270+0.4242j, 0.2717+0.9504j, 0.1859+0.3094j],\n",
       "          [0.0360+0.9082j, 0.7072+0.1522j, 0.2418+0.7199j]],\n",
       "\n",
       "         [[0.3599+0.0049j, 0.1972+0.1454j, 0.8738+0.1400j],\n",
       "          [0.4422+0.8308j, 0.6867+0.9323j, 0.7432+0.5373j]],\n",
       "\n",
       "         [[0.0893+0.5059j, 0.0165+0.8682j, 0.5017+0.2122j],\n",
       "          [0.1720+0.0419j, 0.5692+0.6665j, 0.9631+0.4854j]]],\n",
       "\n",
       "\n",
       "        [[[0.7939+0.4967j, 0.9008+0.5299j, 0.0492+0.6576j],\n",
       "          [0.5615+0.9786j, 0.7918+0.2373j, 0.2537+0.9371j]],\n",
       "\n",
       "         [[0.6935+0.6512j, 0.2113+0.6199j, 0.0774+0.6161j],\n",
       "          [0.6005+0.5400j, 0.4789+0.4970j, 0.5925+0.5327j]],\n",
       "\n",
       "         [[0.2839+0.8606j, 0.5041+0.6455j, 0.1697+0.2065j],\n",
       "          [0.9066+0.9193j, 0.8416+0.0208j, 0.0467+0.3330j]],\n",
       "\n",
       "         [[0.8873+0.3694j, 0.7213+0.4273j, 0.5967+0.6259j],\n",
       "          [0.3936+0.3773j, 0.6439+0.5966j, 0.9847+0.1889j]],\n",
       "\n",
       "         [[0.5323+0.5552j, 0.1605+0.2900j, 0.4645+0.4974j],\n",
       "          [0.8052+0.0721j, 0.5628+0.3702j, 0.7664+0.4187j]]]])"
      ]
     },
     "execution_count": 18,
     "metadata": {},
     "output_type": "execute_result"
    }
   ],
   "source": [
    "a=torch.view_as_complex(xq.float().reshape(*xq.shape[:-1], -1, 2))\n",
    "print(a.shape)\n",
    "a"
   ]
  },
  {
   "cell_type": "code",
   "execution_count": 19,
   "id": "12ad9ae4-bcae-406d-a5b6-516be180621a",
   "metadata": {},
   "outputs": [],
   "source": [
    "def reshape_for_broadcast(freqs_cis: torch.Tensor, x: torch.Tensor):\n",
    "    ndim = x.ndim\n",
    "    assert 0 <= 1 < ndim\n",
    "    assert freqs_cis.shape == (x.shape[1], x.shape[-1])\n",
    "    shape = [d if i == 1 or i == ndim - 1 else 1 for i, d in enumerate(x.shape)]\n",
    "    return freqs_cis.view(*shape)"
   ]
  },
  {
   "cell_type": "code",
   "execution_count": 20,
   "id": "c41728e0-5b4b-4fbc-93b6-3a7dcfc5e61c",
   "metadata": {},
   "outputs": [
    {
     "ename": "AssertionError",
     "evalue": "",
     "output_type": "error",
     "traceback": [
      "\u001b[0;31m---------------------------------------------------------------------------\u001b[0m",
      "\u001b[0;31mAssertionError\u001b[0m                            Traceback (most recent call last)",
      "Cell \u001b[0;32mIn[20], line 1\u001b[0m\n\u001b[0;32m----> 1\u001b[0m \u001b[43mreshape_for_broadcast\u001b[49m\u001b[43m(\u001b[49m\u001b[43mfreqs_cisa\u001b[49m\u001b[43m,\u001b[49m\u001b[43m \u001b[49m\u001b[43ma\u001b[49m\u001b[43m)\u001b[49m\n",
      "Cell \u001b[0;32mIn[19], line 4\u001b[0m, in \u001b[0;36mreshape_for_broadcast\u001b[0;34m(freqs_cis, x)\u001b[0m\n\u001b[1;32m      2\u001b[0m ndim \u001b[38;5;241m=\u001b[39m x\u001b[38;5;241m.\u001b[39mndim\n\u001b[1;32m      3\u001b[0m \u001b[38;5;28;01massert\u001b[39;00m \u001b[38;5;241m0\u001b[39m \u001b[38;5;241m<\u001b[39m\u001b[38;5;241m=\u001b[39m \u001b[38;5;241m1\u001b[39m \u001b[38;5;241m<\u001b[39m ndim\n\u001b[0;32m----> 4\u001b[0m \u001b[38;5;28;01massert\u001b[39;00m freqs_cis\u001b[38;5;241m.\u001b[39mshape \u001b[38;5;241m==\u001b[39m (x\u001b[38;5;241m.\u001b[39mshape[\u001b[38;5;241m1\u001b[39m], x\u001b[38;5;241m.\u001b[39mshape[\u001b[38;5;241m-\u001b[39m\u001b[38;5;241m1\u001b[39m])\n\u001b[1;32m      5\u001b[0m shape \u001b[38;5;241m=\u001b[39m [d \u001b[38;5;28;01mif\u001b[39;00m i \u001b[38;5;241m==\u001b[39m \u001b[38;5;241m1\u001b[39m \u001b[38;5;129;01mor\u001b[39;00m i \u001b[38;5;241m==\u001b[39m ndim \u001b[38;5;241m-\u001b[39m \u001b[38;5;241m1\u001b[39m \u001b[38;5;28;01melse\u001b[39;00m \u001b[38;5;241m1\u001b[39m \u001b[38;5;28;01mfor\u001b[39;00m i, d \u001b[38;5;129;01min\u001b[39;00m \u001b[38;5;28menumerate\u001b[39m(x\u001b[38;5;241m.\u001b[39mshape)]\n\u001b[1;32m      6\u001b[0m \u001b[38;5;28;01mreturn\u001b[39;00m freqs_cis\u001b[38;5;241m.\u001b[39mview(\u001b[38;5;241m*\u001b[39mshape)\n",
      "\u001b[0;31mAssertionError\u001b[0m: "
     ]
    }
   ],
   "source": [
    "reshape_for_broadcast(freqs_cisa, a)"
   ]
  },
  {
   "cell_type": "code",
   "execution_count": 21,
   "id": "5a28d24a-33eb-4859-8cbf-483d98041e7e",
   "metadata": {},
   "outputs": [
    {
     "data": {
      "text/plain": [
       "torch.Size([10, 6])"
      ]
     },
     "execution_count": 21,
     "metadata": {},
     "output_type": "execute_result"
    }
   ],
   "source": [
    "freqs_cisa.shape"
   ]
  },
  {
   "cell_type": "code",
   "execution_count": 22,
   "id": "8f1ae814-8cce-4d5e-b462-8a37217e664c",
   "metadata": {},
   "outputs": [
    {
     "data": {
      "text/plain": [
       "torch.Size([2, 5, 2, 3])"
      ]
     },
     "execution_count": 22,
     "metadata": {},
     "output_type": "execute_result"
    }
   ],
   "source": [
    "a.shape"
   ]
  },
  {
   "cell_type": "code",
   "execution_count": null,
   "id": "8417506e-97fa-4d7f-87f0-30dc00f1323a",
   "metadata": {},
   "outputs": [],
   "source": []
  }
 ],
 "metadata": {
  "kernelspec": {
   "display_name": "torch2",
   "language": "python",
   "name": "torch2"
  },
  "language_info": {
   "codemirror_mode": {
    "name": "ipython",
    "version": 3
   },
   "file_extension": ".py",
   "mimetype": "text/x-python",
   "name": "python",
   "nbconvert_exporter": "python",
   "pygments_lexer": "ipython3",
   "version": "3.9.2"
  }
 },
 "nbformat": 4,
 "nbformat_minor": 5
}
