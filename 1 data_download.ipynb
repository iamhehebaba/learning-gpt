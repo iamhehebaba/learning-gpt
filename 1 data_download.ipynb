{
 "cells": [
  {
   "cell_type": "markdown",
   "id": "c8b28660-1c5f-469d-b889-7afab0e62b4a",
   "metadata": {},
   "source": [
    "# 参考资料：\n",
    "# https://github.com/fighting41love/funNLP?tab=readme-ov-file#%E8%AF%AD%E6%96%99%E5%BA%93\n",
    "# https://hf-mirror.com/datasets"
   ]
  },
  {
   "cell_type": "code",
   "execution_count": null,
   "id": "fcc52187-acff-4ec7-8894-4242f233711a",
   "metadata": {},
   "outputs": [],
   "source": []
  }
 ],
 "metadata": {
  "kernelspec": {
   "display_name": "torch2",
   "language": "python",
   "name": "torch2"
  },
  "language_info": {
   "codemirror_mode": {
    "name": "ipython",
    "version": 3
   },
   "file_extension": ".py",
   "mimetype": "text/x-python",
   "name": "python",
   "nbconvert_exporter": "python",
   "pygments_lexer": "ipython3",
   "version": "3.9.2"
  }
 },
 "nbformat": 4,
 "nbformat_minor": 5
}
