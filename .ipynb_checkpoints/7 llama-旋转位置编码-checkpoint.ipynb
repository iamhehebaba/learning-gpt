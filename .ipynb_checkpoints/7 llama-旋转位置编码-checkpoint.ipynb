{
 "cells": [
  {
   "cell_type": "markdown",
   "id": "a5a85417-d903-47ad-bb07-67ea91ca711d",
   "metadata": {},
   "source": [
    "# 旋转位置编码"
   ]
  },
  {
   "cell_type": "code",
   "execution_count": null,
   "id": "6dfebbed-5395-4041-9470-2cac2a76976e",
   "metadata": {},
   "outputs": [],
   "source": [
    "# 参考资料\n",
    "# 1 paper：\n",
    "# 2 作者知乎：https://zhuanlan.zhihu.com/p/359502624 ； https://kexue.fm/archives/8265\n",
    "# 3 绝密伏击： https://zhuanlan.zhihu.com/p/675243992"
   ]
  }
 ],
 "metadata": {
  "kernelspec": {
   "display_name": "Python 3 (ipykernel)",
   "language": "python",
   "name": "python3"
  },
  "language_info": {
   "codemirror_mode": {
    "name": "ipython",
    "version": 3
   },
   "file_extension": ".py",
   "mimetype": "text/x-python",
   "name": "python",
   "nbconvert_exporter": "python",
   "pygments_lexer": "ipython3",
   "version": "3.9.13"
  }
 },
 "nbformat": 4,
 "nbformat_minor": 5
}
